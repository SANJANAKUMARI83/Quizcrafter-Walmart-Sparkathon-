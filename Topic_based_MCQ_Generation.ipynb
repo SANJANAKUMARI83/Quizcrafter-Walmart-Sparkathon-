{
  "nbformat": 4,
  "nbformat_minor": 0,
  "metadata": {
    "colab": {
      "provenance": [],
      "gpuType": "T4"
    },
    "kernelspec": {
      "name": "python3",
      "display_name": "Python 3"
    },
    "language_info": {
      "name": "python"
    },
    "accelerator": "GPU"
  },
  "cells": [
    {
      "cell_type": "code",
      "source": [
        "!pip install -q transformers einops accelerate langchain bitsandbytes langchain_community"
      ],
      "metadata": {
        "colab": {
          "base_uri": "https://localhost:8080/"
        },
        "id": "qxRYobI7OMi-",
        "outputId": "e868a18a-2e00-4dcd-81e7-3eff8532f63b"
      },
      "execution_count": null,
      "outputs": [
        {
          "output_type": "stream",
          "name": "stdout",
          "text": [
            "\u001b[2K     \u001b[90m━━━━━━━━━━━━━━━━━━━━━━━━━━━━━━━━━━━━━━━━\u001b[0m \u001b[32m43.2/43.2 kB\u001b[0m \u001b[31m595.2 kB/s\u001b[0m eta \u001b[36m0:00:00\u001b[0m\n",
            "\u001b[2K     \u001b[90m━━━━━━━━━━━━━━━━━━━━━━━━━━━━━━━━━━━━━━━━\u001b[0m \u001b[32m309.4/309.4 kB\u001b[0m \u001b[31m7.2 MB/s\u001b[0m eta \u001b[36m0:00:00\u001b[0m\n",
            "\u001b[2K     \u001b[90m━━━━━━━━━━━━━━━━━━━━━━━━━━━━━━━━━━━━━━━━\u001b[0m \u001b[32m975.5/975.5 kB\u001b[0m \u001b[31m12.6 MB/s\u001b[0m eta \u001b[36m0:00:00\u001b[0m\n",
            "\u001b[2K     \u001b[90m━━━━━━━━━━━━━━━━━━━━━━━━━━━━━━━━━━━━━━━━\u001b[0m \u001b[32m119.8/119.8 MB\u001b[0m \u001b[31m5.3 MB/s\u001b[0m eta \u001b[36m0:00:00\u001b[0m\n",
            "\u001b[2K     \u001b[90m━━━━━━━━━━━━━━━━━━━━━━━━━━━━━━━━━━━━━━━━\u001b[0m \u001b[32m2.2/2.2 MB\u001b[0m \u001b[31m58.5 MB/s\u001b[0m eta \u001b[36m0:00:00\u001b[0m\n",
            "\u001b[2K     \u001b[90m━━━━━━━━━━━━━━━━━━━━━━━━━━━━━━━━━━━━━━━━\u001b[0m \u001b[32m332.8/332.8 kB\u001b[0m \u001b[31m27.0 MB/s\u001b[0m eta \u001b[36m0:00:00\u001b[0m\n",
            "\u001b[2K     \u001b[90m━━━━━━━━━━━━━━━━━━━━━━━━━━━━━━━━━━━━━━━━\u001b[0m \u001b[32m127.4/127.4 kB\u001b[0m \u001b[31m7.8 MB/s\u001b[0m eta \u001b[36m0:00:00\u001b[0m\n",
            "\u001b[2K     \u001b[90m━━━━━━━━━━━━━━━━━━━━━━━━━━━━━━━━━━━━━━━━\u001b[0m \u001b[32m49.2/49.2 kB\u001b[0m \u001b[31m2.9 MB/s\u001b[0m eta \u001b[36m0:00:00\u001b[0m\n",
            "\u001b[2K     \u001b[90m━━━━━━━━━━━━━━━━━━━━━━━━━━━━━━━━━━━━━━━━\u001b[0m \u001b[32m145.0/145.0 kB\u001b[0m \u001b[31m15.6 MB/s\u001b[0m eta \u001b[36m0:00:00\u001b[0m\n",
            "\u001b[2K     \u001b[90m━━━━━━━━━━━━━━━━━━━━━━━━━━━━━━━━━━━━━━━━\u001b[0m \u001b[32m21.3/21.3 MB\u001b[0m \u001b[31m51.9 MB/s\u001b[0m eta \u001b[36m0:00:00\u001b[0m\n",
            "\u001b[?25h"
          ]
        }
      ]
    },
    {
      "cell_type": "code",
      "source": [
        "from langchain.llms import HuggingFacePipeline\n",
        "from transformers import AutoTokenizer\n",
        "import transformers\n",
        "import torch\n",
        "import os\n",
        "import json\n",
        "import re\n",
        "import pandas as pd\n",
        "import traceback\n",
        "\n",
        "import warnings\n",
        "warnings.filterwarnings('ignore')"
      ],
      "metadata": {
        "id": "YFFL02dVOUkj"
      },
      "execution_count": null,
      "outputs": []
    },
    {
      "cell_type": "code",
      "source": [
        "model_id = \"unsloth/llama-3-8b-Instruct-bnb-4bit\"\n",
        "\n",
        "pipeline = transformers.pipeline(\n",
        "    \"text-generation\",\n",
        "    model=model_id,\n",
        "    model_kwargs={\n",
        "        \"torch_dtype\": torch.float16,\n",
        "        \"quantization_config\": {\"load_in_4bit\": True},\n",
        "        \"low_cpu_mem_usage\": True,\n",
        "    },\n",
        "    max_length=2000,\n",
        "    do_sample=True,\n",
        "    top_k=10,\n",
        "    num_return_sequences=1,\n",
        ")"
      ],
      "metadata": {
        "colab": {
          "base_uri": "https://localhost:8080/"
        },
        "id": "2htvzMMpVeVd",
        "outputId": "2729b85d-311d-4fea-9940-70dc58b39bb3"
      },
      "execution_count": null,
      "outputs": [
        {
          "output_type": "stream",
          "name": "stderr",
          "text": [
            "Unused kwargs: ['_load_in_4bit', '_load_in_8bit', 'quant_method']. These kwargs are not used in <class 'transformers.utils.quantization_config.BitsAndBytesConfig'>.\n",
            "Special tokens have been added in the vocabulary, make sure the associated word embeddings are fine-tuned or trained.\n"
          ]
        }
      ]
    },
    {
      "cell_type": "code",
      "source": [
        "terminators = [\n",
        "    pipeline.tokenizer.eos_token_id,\n",
        "    pipeline.tokenizer.convert_tokens_to_ids(\"<|eot_id|>\")\n",
        "]"
      ],
      "metadata": {
        "id": "pffdWPl3TdQG"
      },
      "execution_count": null,
      "outputs": []
    },
    {
      "cell_type": "code",
      "source": [
        "from langchain.prompts import PromptTemplate\n",
        "from langchain.chains import LLMChain\n",
        "from langchain.chains import SequentialChain"
      ],
      "metadata": {
        "id": "nAXAavodTlP1"
      },
      "execution_count": null,
      "outputs": []
    },
    {
      "cell_type": "code",
      "source": [
        "RESPONSE_JSON = {\n",
        "    \"1\": {\n",
        "        \"mcq\": \"multiple choice question\",\n",
        "        \"options\": {\n",
        "            \"a\": \"choice here\",\n",
        "            \"b\": \"choice here\",\n",
        "            \"c\": \"choice here\",\n",
        "            \"d\": \"choice here\",\n",
        "        },\n",
        "        \"correct\": \"correct answer\",\n",
        "    },\n",
        "    \"2\": {\n",
        "        \"mcq\": \"multiple choice question\",\n",
        "        \"options\": {\n",
        "            \"a\": \"choice here\",\n",
        "            \"b\": \"choice here\",\n",
        "            \"c\": \"choice here\",\n",
        "            \"d\": \"choice here\",\n",
        "        },\n",
        "        \"correct\": \"correct answer\",\n",
        "    },\n",
        "    \"3\": {\n",
        "        \"mcq\": \"multiple choice question\",\n",
        "        \"options\": {\n",
        "            \"a\": \"choice here\",\n",
        "            \"b\": \"choice here\",\n",
        "            \"c\": \"choice here\",\n",
        "            \"d\": \"choice here\",\n",
        "        },\n",
        "        \"correct\": \"correct answer\",\n",
        "    },\n",
        "}"
      ],
      "metadata": {
        "id": "_h9qnvgXTs_p"
      },
      "execution_count": null,
      "outputs": []
    },
    {
      "cell_type": "code",
      "source": [
        "TEMPLATE1=\"\"\"\n",
        "Topic:{Topic}\n",
        "You are an expert MCQ maker. Given the above topic, it is your job to \\\n",
        "create a quiz  of {Number} multiple choice questions for students having {Difficulty} Difficulty.\n",
        "Make sure the questions are not repeated and check all the questions to be conforming the text as well.\n",
        "Make sure to format your response like  RESPONSE_JSON below  and use it as a guide. \\\n",
        "Ensure to make {Number} MCQs\n",
        "### RESPONSE_JSON\n",
        "{response_json}\n",
        "\n",
        "\"\"\""
      ],
      "metadata": {
        "id": "bN5juhciT0Qz"
      },
      "execution_count": null,
      "outputs": []
    },
    {
      "cell_type": "code",
      "source": [
        "def get_prompt(Instruction):\n",
        "  messages= [\n",
        "    {\"role\": \"system\", \"content\": \"You are a helpful assistant! who generates very good quality output based on user input\"},\n",
        "    {\"role\": \"user\", \"content\": Instruction}\n",
        "  ]\n",
        "\n",
        "  prompt = pipeline.tokenizer.apply_chat_template(\n",
        "    messages,\n",
        "    tokenize=False,\n",
        "    add_generation_prompt=True\n",
        " )\n",
        "\n",
        "  return prompt"
      ],
      "metadata": {
        "id": "D2UnESfJUNub"
      },
      "execution_count": null,
      "outputs": []
    },
    {
      "cell_type": "code",
      "source": [
        "quiz_generation_prompt = PromptTemplate(\n",
        "    input_variables=[\"Topic\", \"Number\",\"Difficulty\", \"response_json\"],\n",
        "    template=get_prompt(TEMPLATE1)\n",
        "    )"
      ],
      "metadata": {
        "id": "5LLlhZF23cXC"
      },
      "execution_count": null,
      "outputs": []
    },
    {
      "cell_type": "code",
      "source": [
        "llm=HuggingFacePipeline(pipeline=pipeline, model_kwargs={'eos_token_id':terminators,'temperature':0.1})"
      ],
      "metadata": {
        "id": "86rKgiwwm9dF"
      },
      "execution_count": null,
      "outputs": []
    },
    {
      "cell_type": "code",
      "source": [
        "quiz_chain = LLMChain(llm=llm, prompt=quiz_generation_prompt, output_key=\"quiz\", verbose=True)"
      ],
      "metadata": {
        "id": "X3VlAQ6sVQ9Z"
      },
      "execution_count": null,
      "outputs": []
    },
    {
      "cell_type": "code",
      "source": [
        "TEMPLATE2=\"\"\"\n",
        "You are an expert english grammarian and writer. Given a Multiple Choice Quiz for students.\\\n",
        "You need to evaluate the complexity of the question and give a complete analysis of the quiz. Only use at max 50 words for complexity analysis.\n",
        "if the quiz is not at per with the cognitive and analytical abilities of the students,\\\n",
        "update the quiz questions which needs to be changed and change the tone such that it perfectly fits the student abilities\n",
        "Quiz_MCQs:\n",
        "{quiz}\n",
        "\n",
        "Check from an expert English Writer of the above quiz:\n",
        "\"\"\""
      ],
      "metadata": {
        "id": "h82Qzmu3YmD5"
      },
      "execution_count": null,
      "outputs": []
    },
    {
      "cell_type": "code",
      "source": [
        "quiz_evaluation_prompt = PromptTemplate(input_variables=[\"quiz\"], template=get_prompt(TEMPLATE2))"
      ],
      "metadata": {
        "id": "IXFDKFw_69T-"
      },
      "execution_count": null,
      "outputs": []
    },
    {
      "cell_type": "code",
      "source": [
        "review_chain=LLMChain(llm=llm, prompt=quiz_evaluation_prompt, output_key=\"review\", verbose=True)"
      ],
      "metadata": {
        "id": "b6ugcFoW7CnP"
      },
      "execution_count": null,
      "outputs": []
    },
    {
      "cell_type": "code",
      "source": [
        "generate_evaluate_chain = SequentialChain(chains=[quiz_chain, review_chain], input_variables=[\"Topic\", \"Number\",\"Difficulty\", \"response_json\"],\n",
        "                                        output_variables=[\"quiz\", \"review\"], verbose=True,)"
      ],
      "metadata": {
        "id": "HnAP9PoJ8FTC"
      },
      "execution_count": null,
      "outputs": []
    },
    {
      "cell_type": "code",
      "source": [
        "TOPIC = \"Linear Regression\"\n",
        "NUMBER = 10\n",
        "DIFFICULTY = 'Difficult'"
      ],
      "metadata": {
        "id": "OHXlrywb87X6"
      },
      "execution_count": null,
      "outputs": []
    },
    {
      "cell_type": "code",
      "source": [
        "response = generate_evaluate_chain(\n",
        "        {\n",
        "            \"Topic\": TOPIC,\n",
        "            \"Number\": NUMBER,\n",
        "            \"Difficulty\": DIFFICULTY,\n",
        "            \"response_json\": json.dumps(RESPONSE_JSON)\n",
        "        }\n",
        "        )"
      ],
      "metadata": {
        "colab": {
          "base_uri": "https://localhost:8080/"
        },
        "id": "QRj8BWV98XJM",
        "outputId": "d2052807-d29f-4da6-c6b6-be5127737409"
      },
      "execution_count": null,
      "outputs": [
        {
          "output_type": "stream",
          "name": "stderr",
          "text": [
            "Truncation was not explicitly activated but `max_length` is provided a specific value, please use `truncation=True` to explicitly truncate examples to max length. Defaulting to 'longest_first' truncation strategy. If you encode pairs of sequences (GLUE-style) with the tokenizer you can select this strategy more precisely by providing a specific strategy to `truncation`.\n"
          ]
        },
        {
          "output_type": "stream",
          "name": "stdout",
          "text": [
            "\n",
            "\n",
            "\u001b[1m> Entering new SequentialChain chain...\u001b[0m\n",
            "\n",
            "\n",
            "\u001b[1m> Entering new LLMChain chain...\u001b[0m\n",
            "Prompt after formatting:\n",
            "\u001b[32;1m\u001b[1;3m<|begin_of_text|><|start_header_id|>system<|end_header_id|>\n",
            "\n",
            "You are a helpful assistant! who generates very good quality output based on user input<|eot_id|><|start_header_id|>user<|end_header_id|>\n",
            "\n",
            "Topic:Linear Regression\n",
            "You are an expert MCQ maker. Given the above topic, it is your job to create a quiz  of 10 multiple choice questions for students having Difficult Difficulty. \n",
            "Make sure the questions are not repeated and check all the questions to be conforming the text as well.\n",
            "Make sure to format your response like  RESPONSE_JSON below  and use it as a guide. Ensure to make 10 MCQs\n",
            "### RESPONSE_JSON\n",
            "{\"1\": {\"mcq\": \"multiple choice question\", \"options\": {\"a\": \"choice here\", \"b\": \"choice here\", \"c\": \"choice here\", \"d\": \"choice here\"}, \"correct\": \"correct answer\"}, \"2\": {\"mcq\": \"multiple choice question\", \"options\": {\"a\": \"choice here\", \"b\": \"choice here\", \"c\": \"choice here\", \"d\": \"choice here\"}, \"correct\": \"correct answer\"}, \"3\": {\"mcq\": \"multiple choice question\", \"options\": {\"a\": \"choice here\", \"b\": \"choice here\", \"c\": \"choice here\", \"d\": \"choice here\"}, \"correct\": \"correct answer\"}}<|eot_id|><|start_header_id|>assistant<|end_header_id|>\n",
            "\n",
            "\u001b[0m\n",
            "\n",
            "\u001b[1m> Finished chain.\u001b[0m\n",
            "\n",
            "\n",
            "\u001b[1m> Entering new LLMChain chain...\u001b[0m\n",
            "Prompt after formatting:\n",
            "\u001b[32;1m\u001b[1;3m<|begin_of_text|><|start_header_id|>system<|end_header_id|>\n",
            "\n",
            "You are a helpful assistant! who generates very good quality output based on user input<|eot_id|><|start_header_id|>user<|end_header_id|>\n",
            "\n",
            "You are an expert english grammarian and writer. Given a Multiple Choice Quiz for students.You need to evaluate the complexity of the question and give a complete analysis of the quiz. Only use at max 50 words for complexity analysis. \n",
            "if the quiz is not at per with the cognitive and analytical abilities of the students,update the quiz questions which needs to be changed and change the tone such that it perfectly fits the student abilities\n",
            "Quiz_MCQs:\n",
            "<|begin_of_text|><|start_header_id|>system<|end_header_id|>\n",
            "\n",
            "You are a helpful assistant! who generates very good quality output based on user input<|eot_id|><|start_header_id|>user<|end_header_id|>\n",
            "\n",
            "Topic:Linear Regression\n",
            "You are an expert MCQ maker. Given the above topic, it is your job to create a quiz  of 10 multiple choice questions for students having Difficult Difficulty. \n",
            "Make sure the questions are not repeated and check all the questions to be conforming the text as well.\n",
            "Make sure to format your response like  RESPONSE_JSON below  and use it as a guide. Ensure to make 10 MCQs\n",
            "### RESPONSE_JSON\n",
            "{\"1\": {\"mcq\": \"multiple choice question\", \"options\": {\"a\": \"choice here\", \"b\": \"choice here\", \"c\": \"choice here\", \"d\": \"choice here\"}, \"correct\": \"correct answer\"}, \"2\": {\"mcq\": \"multiple choice question\", \"options\": {\"a\": \"choice here\", \"b\": \"choice here\", \"c\": \"choice here\", \"d\": \"choice here\"}, \"correct\": \"correct answer\"}, \"3\": {\"mcq\": \"multiple choice question\", \"options\": {\"a\": \"choice here\", \"b\": \"choice here\", \"c\": \"choice here\", \"d\": \"choice here\"}, \"correct\": \"correct answer\"}}<|eot_id|><|start_header_id|>assistant<|end_header_id|>\n",
            "\n",
            "Here are 10 multiple-choice questions on Linear Regression with Difficult difficulty:\n",
            "\n",
            "{\n",
            "\"1\": {\"mcq\": \"The goal of a linear regression model is to find a line that best fits the data. Which of the following assumptions is NOT true in linear regression? \", \n",
            "\"options\": {\"a\": \"Independence of the residuals\", \"b\": \" Normality of the residuals\", \"c\": \"Equal variance in the residuals\", \"d\": \"Multicollinearity among the predictors\"}, \n",
            "\"correct\": \"d\"},\n",
            "\n",
            "\"2\": {\"mcq\": \"What is the purpose of centering and scaling in linear regression? \", \n",
            "\"options\": {\"a\": \"To reduce the effects of outliers\", \"b\": \"To improve the model's fit\", \"c\": \"To simplify the calculations\", \"d\": \"To prevent multicollinearity\"}, \n",
            "\"correct\": \"b\"},\n",
            "\n",
            "\"3\": {\"mcq\": \"In linear regression, what is the term for the vertical distance between a data point and the regression line? \", \n",
            "\"options\": {\"a\": \"Residual\", \"b\": \"Error\", \"c\": \"Deviation\", \"d\": \"Distance\"}, \n",
            "\"correct\": \"a\"},\n",
            "\n",
            "\"4\": {\"mcq\": \"Which of the following is NOT a type of linear regression? \", \n",
            "\"options\": {\"a\": \"Simple linear regression\", \"b\": \"Multiple linear regression\", \"c\": \"Polynomial regression\", \"d\": \"Logistic regression\"}, \n",
            "\"correct\": \"d\"},\n",
            "\n",
            "\"5\": {\"mcq\": \"What is the term for the coefficient of determination in linear regression? \", \n",
            "\"options\": {\"a\": \"R-squared\", \"b\": \"Coefficients\", \"c\": \"Standardized beta\", \"d\": \"Adjusted R-squared\"}, \n",
            "\"correct\": \"a\"},\n",
            "\n",
            "\"6\": {\"mcq\": \"In linear regression, what is the assumption that states the relationship between the response variable and the predictor variables should be linear? \", \n",
            "\"options\": {\"a\": \"Homoscedasticity\", \"b\": \"Linearity\", \"c\": \"Independence\", \"d\": \"Equal variance\"}, \n",
            "\"correct\": \"b\"},\n",
            "\n",
            "\"7\": {\"mcq\": \"What is the primary purpose of cross-validation in linear regression? \", \n",
            "\"options\": {\"a\": \"To evaluate the model's fit\", \"b\": \"To prevent overfitting\", \"c\": \"To improve the model's performance\", \"d\": \"To simplify the calculations\"}, \n",
            "\"correct\": \"b\"},\n",
            "\n",
            "\"8\": {\"mcq\": \"Which of the following is a disadvantage of using simple linear regression? \", \n",
            "\"options\": {\"a\": \"It is computationally expensive\", \"b\": \"It assumes independence of the residuals\", \"c\": \"It is limited to a single predictor\", \"d\": \"It is not suitable for categorical variables\"}, \n",
            "\"correct\": \"c\"},\n",
            "\n",
            "\"9\": {\"mcq\": \"What is the term for the process of selecting the most important predictor variables in linear regression? \", \n",
            "\"options\": {\"a\": \"Feature selection\", \"b\": \"Dimensionality reduction\", \"c\": \"Regularization\", \"d\": \"Variable selection\"}, \n",
            "\"correct\": \"d\"},\n",
            "\n",
            "\"10\": {\"mcq\": \"Which of the following is a common problem that can occur in multiple linear regression? \", \n",
            "\"options\": {\"a\": \"Multicollinearity\", \"b\": \"Heteroscedasticity\", \"c\": \"Multiclass classification\", \"d\": \"Non-normality\"}, \n",
            "\"correct\": \"a\"}\n",
            "}\n",
            "\n",
            "Note: I have tried to cover a variety of topics in linear regression, including assumptions, model evaluation, and feature selection. The questions are designed to be challenging, but not impossible, for a student with a difficult level of understanding in linear regression.\n",
            "\n",
            "Check from an expert English Writer of the above quiz:<|eot_id|><|start_header_id|>assistant<|end_header_id|>\n",
            "\n",
            "\u001b[0m\n",
            "\n",
            "\u001b[1m> Finished chain.\u001b[0m\n",
            "\n",
            "\u001b[1m> Finished chain.\u001b[0m\n"
          ]
        }
      ]
    },
    {
      "cell_type": "code",
      "source": [
        "quiz=response.get(\"quiz\")\n",
        "mcqs_text = quiz\n",
        "start_idx = mcqs_text.find('{')\n",
        "end_idx = mcqs_text.rfind('}') + 1\n",
        "\n",
        "mcqs_json_str = mcqs_text[start_idx:end_idx]\n",
        "\n",
        "match = re.search(r'difficulty:\\s*(.*)', mcqs_json_str, re.DOTALL)\n",
        "if match:\n",
        "    mcqs_text = match.group(1)\n",
        "    mcqs_json = json.loads(mcqs_text)"
      ],
      "metadata": {
        "id": "trV0h1Hl-tYQ"
      },
      "execution_count": null,
      "outputs": []
    },
    {
      "cell_type": "code",
      "source": [
        "quiz=response.get(\"quiz\")\n",
        "\n",
        "quiz_table_data = []\n",
        "for key, value in mcqs_json.items():\n",
        "    mcq = value[\"mcq\"]\n",
        "    options = \" | \".join(\n",
        "        [\n",
        "            f\"{option}: {option_value}\"\n",
        "            for option, option_value in value[\"options\"].items()\n",
        "            ]\n",
        "        )\n",
        "    correct = value[\"correct\"]\n",
        "    quiz_table_data.append({\"MCQ\": mcq, \"Choices\": options, \"Correct\": correct})"
      ],
      "metadata": {
        "id": "dnY7neqG9LCf"
      },
      "execution_count": null,
      "outputs": []
    },
    {
      "cell_type": "code",
      "source": [
        "quiz=pd.DataFrame(quiz_table_data)"
      ],
      "metadata": {
        "id": "8c3plDrB-pRV"
      },
      "execution_count": null,
      "outputs": []
    },
    {
      "cell_type": "code",
      "source": [
        "quiz.to_csv('/content/Linear_regression.csv')"
      ],
      "metadata": {
        "id": "3R3BdkEbIiDb"
      },
      "execution_count": null,
      "outputs": []
    },
    {
      "cell_type": "code",
      "source": [
        "import pandas as pd"
      ],
      "metadata": {
        "id": "z_WdvvanIpNy"
      },
      "execution_count": 1,
      "outputs": []
    },
    {
      "cell_type": "code",
      "source": [
        "df = pd.read_csv(\"/content/Linear_regression.csv\")"
      ],
      "metadata": {
        "id": "UtG6hFNjJ48I"
      },
      "execution_count": 31,
      "outputs": []
    },
    {
      "cell_type": "code",
      "source": [
        "df['Choices'][0]"
      ],
      "metadata": {
        "colab": {
          "base_uri": "https://localhost:8080/",
          "height": 52
        },
        "id": "5lz7QuOlJ8lJ",
        "outputId": "0df902cc-e717-431e-b490-ce3418163dcb"
      },
      "execution_count": 32,
      "outputs": [
        {
          "output_type": "execute_result",
          "data": {
            "text/plain": [
              "'a: Independence of the residuals | b:  Normality of the residuals | c: Equal variance in the residuals | d: Multicollinearity among the predictors'"
            ],
            "application/vnd.google.colaboratory.intrinsic+json": {
              "type": "string"
            }
          },
          "metadata": {},
          "execution_count": 32
        }
      ]
    },
    {
      "cell_type": "code",
      "source": [
        "!pip install gradio"
      ],
      "metadata": {
        "id": "g0d3yeN3KIOn"
      },
      "execution_count": null,
      "outputs": []
    },
    {
      "cell_type": "code",
      "source": [
        "def create_mapping(choices_str):\n",
        "    mapping = {}\n",
        "    choices = choices_str.split(' | ')\n",
        "    for choice in choices:\n",
        "        key, value = choice.split(': ', 1)\n",
        "        mapping[key.strip()] = value.strip()\n",
        "    return mapping\n",
        "\n",
        "# Apply create_mapping function to 'choices' column\n",
        "df['map'] = df['Choices'].apply(create_mapping)\n",
        "\n",
        "# Replace 'correct' column with corresponding values from 'map'\n",
        "df['Correct'] = df.apply(lambda row: row['map'][row['Correct']], axis=1)\n",
        "\n",
        "# Display the updated DataFrame\n",
        "df"
      ],
      "metadata": {
        "colab": {
          "base_uri": "https://localhost:8080/",
          "height": 553
        },
        "id": "vDczWbcyYhvW",
        "outputId": "051550a1-972c-4128-a2d0-2aa979a48df2"
      },
      "execution_count": 33,
      "outputs": [
        {
          "output_type": "execute_result",
          "data": {
            "text/plain": [
              "   Unnamed: 0                                                MCQ  \\\n",
              "0           0  The goal of a linear regression model is to fi...   \n",
              "1           1  What is the purpose of centering and scaling i...   \n",
              "2           2  In linear regression, what is the term for the...   \n",
              "3           3  Which of the following is NOT a type of linear...   \n",
              "4           4  What is the term for the coefficient of determ...   \n",
              "5           5  In linear regression, what is the assumption t...   \n",
              "6           6  What is the primary purpose of cross-validatio...   \n",
              "7           7  Which of the following is a disadvantage of us...   \n",
              "8           8  What is the term for the process of selecting ...   \n",
              "9           9  Which of the following is a common problem tha...   \n",
              "\n",
              "                                             Choices  \\\n",
              "0  a: Independence of the residuals | b:  Normali...   \n",
              "1  a: To reduce the effects of outliers | b: To i...   \n",
              "2  a: Residual | b: Error | c: Deviation | d: Dis...   \n",
              "3  a: Simple linear regression | b: Multiple line...   \n",
              "4  a: R-squared | b: Coefficients | c: Standardiz...   \n",
              "5  a: Homoscedasticity | b: Linearity | c: Indepe...   \n",
              "6  a: To evaluate the model's fit | b: To prevent...   \n",
              "7  a: It is computationally expensive | b: It ass...   \n",
              "8  a: Feature selection | b: Dimensionality reduc...   \n",
              "9  a: Multicollinearity | b: Heteroscedasticity |...   \n",
              "\n",
              "                                  Correct  \\\n",
              "0  Multicollinearity among the predictors   \n",
              "1              To improve the model's fit   \n",
              "2                                Residual   \n",
              "3                     Logistic regression   \n",
              "4                               R-squared   \n",
              "5                               Linearity   \n",
              "6                  To prevent overfitting   \n",
              "7     It is limited to a single predictor   \n",
              "8                      Variable selection   \n",
              "9                       Multicollinearity   \n",
              "\n",
              "                                                 map  \n",
              "0  {'a': 'Independence of the residuals', 'b': 'N...  \n",
              "1  {'a': 'To reduce the effects of outliers', 'b'...  \n",
              "2  {'a': 'Residual', 'b': 'Error', 'c': 'Deviatio...  \n",
              "3  {'a': 'Simple linear regression', 'b': 'Multip...  \n",
              "4  {'a': 'R-squared', 'b': 'Coefficients', 'c': '...  \n",
              "5  {'a': 'Homoscedasticity', 'b': 'Linearity', 'c...  \n",
              "6  {'a': 'To evaluate the model's fit', 'b': 'To ...  \n",
              "7  {'a': 'It is computationally expensive', 'b': ...  \n",
              "8  {'a': 'Feature selection', 'b': 'Dimensionalit...  \n",
              "9  {'a': 'Multicollinearity', 'b': 'Heteroscedast...  "
            ],
            "text/html": [
              "\n",
              "  <div id=\"df-3ed914ef-b553-4e16-ae2b-8b951612f1bc\" class=\"colab-df-container\">\n",
              "    <div>\n",
              "<style scoped>\n",
              "    .dataframe tbody tr th:only-of-type {\n",
              "        vertical-align: middle;\n",
              "    }\n",
              "\n",
              "    .dataframe tbody tr th {\n",
              "        vertical-align: top;\n",
              "    }\n",
              "\n",
              "    .dataframe thead th {\n",
              "        text-align: right;\n",
              "    }\n",
              "</style>\n",
              "<table border=\"1\" class=\"dataframe\">\n",
              "  <thead>\n",
              "    <tr style=\"text-align: right;\">\n",
              "      <th></th>\n",
              "      <th>Unnamed: 0</th>\n",
              "      <th>MCQ</th>\n",
              "      <th>Choices</th>\n",
              "      <th>Correct</th>\n",
              "      <th>map</th>\n",
              "    </tr>\n",
              "  </thead>\n",
              "  <tbody>\n",
              "    <tr>\n",
              "      <th>0</th>\n",
              "      <td>0</td>\n",
              "      <td>The goal of a linear regression model is to fi...</td>\n",
              "      <td>a: Independence of the residuals | b:  Normali...</td>\n",
              "      <td>Multicollinearity among the predictors</td>\n",
              "      <td>{'a': 'Independence of the residuals', 'b': 'N...</td>\n",
              "    </tr>\n",
              "    <tr>\n",
              "      <th>1</th>\n",
              "      <td>1</td>\n",
              "      <td>What is the purpose of centering and scaling i...</td>\n",
              "      <td>a: To reduce the effects of outliers | b: To i...</td>\n",
              "      <td>To improve the model's fit</td>\n",
              "      <td>{'a': 'To reduce the effects of outliers', 'b'...</td>\n",
              "    </tr>\n",
              "    <tr>\n",
              "      <th>2</th>\n",
              "      <td>2</td>\n",
              "      <td>In linear regression, what is the term for the...</td>\n",
              "      <td>a: Residual | b: Error | c: Deviation | d: Dis...</td>\n",
              "      <td>Residual</td>\n",
              "      <td>{'a': 'Residual', 'b': 'Error', 'c': 'Deviatio...</td>\n",
              "    </tr>\n",
              "    <tr>\n",
              "      <th>3</th>\n",
              "      <td>3</td>\n",
              "      <td>Which of the following is NOT a type of linear...</td>\n",
              "      <td>a: Simple linear regression | b: Multiple line...</td>\n",
              "      <td>Logistic regression</td>\n",
              "      <td>{'a': 'Simple linear regression', 'b': 'Multip...</td>\n",
              "    </tr>\n",
              "    <tr>\n",
              "      <th>4</th>\n",
              "      <td>4</td>\n",
              "      <td>What is the term for the coefficient of determ...</td>\n",
              "      <td>a: R-squared | b: Coefficients | c: Standardiz...</td>\n",
              "      <td>R-squared</td>\n",
              "      <td>{'a': 'R-squared', 'b': 'Coefficients', 'c': '...</td>\n",
              "    </tr>\n",
              "    <tr>\n",
              "      <th>5</th>\n",
              "      <td>5</td>\n",
              "      <td>In linear regression, what is the assumption t...</td>\n",
              "      <td>a: Homoscedasticity | b: Linearity | c: Indepe...</td>\n",
              "      <td>Linearity</td>\n",
              "      <td>{'a': 'Homoscedasticity', 'b': 'Linearity', 'c...</td>\n",
              "    </tr>\n",
              "    <tr>\n",
              "      <th>6</th>\n",
              "      <td>6</td>\n",
              "      <td>What is the primary purpose of cross-validatio...</td>\n",
              "      <td>a: To evaluate the model's fit | b: To prevent...</td>\n",
              "      <td>To prevent overfitting</td>\n",
              "      <td>{'a': 'To evaluate the model's fit', 'b': 'To ...</td>\n",
              "    </tr>\n",
              "    <tr>\n",
              "      <th>7</th>\n",
              "      <td>7</td>\n",
              "      <td>Which of the following is a disadvantage of us...</td>\n",
              "      <td>a: It is computationally expensive | b: It ass...</td>\n",
              "      <td>It is limited to a single predictor</td>\n",
              "      <td>{'a': 'It is computationally expensive', 'b': ...</td>\n",
              "    </tr>\n",
              "    <tr>\n",
              "      <th>8</th>\n",
              "      <td>8</td>\n",
              "      <td>What is the term for the process of selecting ...</td>\n",
              "      <td>a: Feature selection | b: Dimensionality reduc...</td>\n",
              "      <td>Variable selection</td>\n",
              "      <td>{'a': 'Feature selection', 'b': 'Dimensionalit...</td>\n",
              "    </tr>\n",
              "    <tr>\n",
              "      <th>9</th>\n",
              "      <td>9</td>\n",
              "      <td>Which of the following is a common problem tha...</td>\n",
              "      <td>a: Multicollinearity | b: Heteroscedasticity |...</td>\n",
              "      <td>Multicollinearity</td>\n",
              "      <td>{'a': 'Multicollinearity', 'b': 'Heteroscedast...</td>\n",
              "    </tr>\n",
              "  </tbody>\n",
              "</table>\n",
              "</div>\n",
              "    <div class=\"colab-df-buttons\">\n",
              "\n",
              "  <div class=\"colab-df-container\">\n",
              "    <button class=\"colab-df-convert\" onclick=\"convertToInteractive('df-3ed914ef-b553-4e16-ae2b-8b951612f1bc')\"\n",
              "            title=\"Convert this dataframe to an interactive table.\"\n",
              "            style=\"display:none;\">\n",
              "\n",
              "  <svg xmlns=\"http://www.w3.org/2000/svg\" height=\"24px\" viewBox=\"0 -960 960 960\">\n",
              "    <path d=\"M120-120v-720h720v720H120Zm60-500h600v-160H180v160Zm220 220h160v-160H400v160Zm0 220h160v-160H400v160ZM180-400h160v-160H180v160Zm440 0h160v-160H620v160ZM180-180h160v-160H180v160Zm440 0h160v-160H620v160Z\"/>\n",
              "  </svg>\n",
              "    </button>\n",
              "\n",
              "  <style>\n",
              "    .colab-df-container {\n",
              "      display:flex;\n",
              "      gap: 12px;\n",
              "    }\n",
              "\n",
              "    .colab-df-convert {\n",
              "      background-color: #E8F0FE;\n",
              "      border: none;\n",
              "      border-radius: 50%;\n",
              "      cursor: pointer;\n",
              "      display: none;\n",
              "      fill: #1967D2;\n",
              "      height: 32px;\n",
              "      padding: 0 0 0 0;\n",
              "      width: 32px;\n",
              "    }\n",
              "\n",
              "    .colab-df-convert:hover {\n",
              "      background-color: #E2EBFA;\n",
              "      box-shadow: 0px 1px 2px rgba(60, 64, 67, 0.3), 0px 1px 3px 1px rgba(60, 64, 67, 0.15);\n",
              "      fill: #174EA6;\n",
              "    }\n",
              "\n",
              "    .colab-df-buttons div {\n",
              "      margin-bottom: 4px;\n",
              "    }\n",
              "\n",
              "    [theme=dark] .colab-df-convert {\n",
              "      background-color: #3B4455;\n",
              "      fill: #D2E3FC;\n",
              "    }\n",
              "\n",
              "    [theme=dark] .colab-df-convert:hover {\n",
              "      background-color: #434B5C;\n",
              "      box-shadow: 0px 1px 3px 1px rgba(0, 0, 0, 0.15);\n",
              "      filter: drop-shadow(0px 1px 2px rgba(0, 0, 0, 0.3));\n",
              "      fill: #FFFFFF;\n",
              "    }\n",
              "  </style>\n",
              "\n",
              "    <script>\n",
              "      const buttonEl =\n",
              "        document.querySelector('#df-3ed914ef-b553-4e16-ae2b-8b951612f1bc button.colab-df-convert');\n",
              "      buttonEl.style.display =\n",
              "        google.colab.kernel.accessAllowed ? 'block' : 'none';\n",
              "\n",
              "      async function convertToInteractive(key) {\n",
              "        const element = document.querySelector('#df-3ed914ef-b553-4e16-ae2b-8b951612f1bc');\n",
              "        const dataTable =\n",
              "          await google.colab.kernel.invokeFunction('convertToInteractive',\n",
              "                                                    [key], {});\n",
              "        if (!dataTable) return;\n",
              "\n",
              "        const docLinkHtml = 'Like what you see? Visit the ' +\n",
              "          '<a target=\"_blank\" href=https://colab.research.google.com/notebooks/data_table.ipynb>data table notebook</a>'\n",
              "          + ' to learn more about interactive tables.';\n",
              "        element.innerHTML = '';\n",
              "        dataTable['output_type'] = 'display_data';\n",
              "        await google.colab.output.renderOutput(dataTable, element);\n",
              "        const docLink = document.createElement('div');\n",
              "        docLink.innerHTML = docLinkHtml;\n",
              "        element.appendChild(docLink);\n",
              "      }\n",
              "    </script>\n",
              "  </div>\n",
              "\n",
              "\n",
              "<div id=\"df-35d78fc8-83da-43d0-bbc4-2d0ad09bce1d\">\n",
              "  <button class=\"colab-df-quickchart\" onclick=\"quickchart('df-35d78fc8-83da-43d0-bbc4-2d0ad09bce1d')\"\n",
              "            title=\"Suggest charts\"\n",
              "            style=\"display:none;\">\n",
              "\n",
              "<svg xmlns=\"http://www.w3.org/2000/svg\" height=\"24px\"viewBox=\"0 0 24 24\"\n",
              "     width=\"24px\">\n",
              "    <g>\n",
              "        <path d=\"M19 3H5c-1.1 0-2 .9-2 2v14c0 1.1.9 2 2 2h14c1.1 0 2-.9 2-2V5c0-1.1-.9-2-2-2zM9 17H7v-7h2v7zm4 0h-2V7h2v10zm4 0h-2v-4h2v4z\"/>\n",
              "    </g>\n",
              "</svg>\n",
              "  </button>\n",
              "\n",
              "<style>\n",
              "  .colab-df-quickchart {\n",
              "      --bg-color: #E8F0FE;\n",
              "      --fill-color: #1967D2;\n",
              "      --hover-bg-color: #E2EBFA;\n",
              "      --hover-fill-color: #174EA6;\n",
              "      --disabled-fill-color: #AAA;\n",
              "      --disabled-bg-color: #DDD;\n",
              "  }\n",
              "\n",
              "  [theme=dark] .colab-df-quickchart {\n",
              "      --bg-color: #3B4455;\n",
              "      --fill-color: #D2E3FC;\n",
              "      --hover-bg-color: #434B5C;\n",
              "      --hover-fill-color: #FFFFFF;\n",
              "      --disabled-bg-color: #3B4455;\n",
              "      --disabled-fill-color: #666;\n",
              "  }\n",
              "\n",
              "  .colab-df-quickchart {\n",
              "    background-color: var(--bg-color);\n",
              "    border: none;\n",
              "    border-radius: 50%;\n",
              "    cursor: pointer;\n",
              "    display: none;\n",
              "    fill: var(--fill-color);\n",
              "    height: 32px;\n",
              "    padding: 0;\n",
              "    width: 32px;\n",
              "  }\n",
              "\n",
              "  .colab-df-quickchart:hover {\n",
              "    background-color: var(--hover-bg-color);\n",
              "    box-shadow: 0 1px 2px rgba(60, 64, 67, 0.3), 0 1px 3px 1px rgba(60, 64, 67, 0.15);\n",
              "    fill: var(--button-hover-fill-color);\n",
              "  }\n",
              "\n",
              "  .colab-df-quickchart-complete:disabled,\n",
              "  .colab-df-quickchart-complete:disabled:hover {\n",
              "    background-color: var(--disabled-bg-color);\n",
              "    fill: var(--disabled-fill-color);\n",
              "    box-shadow: none;\n",
              "  }\n",
              "\n",
              "  .colab-df-spinner {\n",
              "    border: 2px solid var(--fill-color);\n",
              "    border-color: transparent;\n",
              "    border-bottom-color: var(--fill-color);\n",
              "    animation:\n",
              "      spin 1s steps(1) infinite;\n",
              "  }\n",
              "\n",
              "  @keyframes spin {\n",
              "    0% {\n",
              "      border-color: transparent;\n",
              "      border-bottom-color: var(--fill-color);\n",
              "      border-left-color: var(--fill-color);\n",
              "    }\n",
              "    20% {\n",
              "      border-color: transparent;\n",
              "      border-left-color: var(--fill-color);\n",
              "      border-top-color: var(--fill-color);\n",
              "    }\n",
              "    30% {\n",
              "      border-color: transparent;\n",
              "      border-left-color: var(--fill-color);\n",
              "      border-top-color: var(--fill-color);\n",
              "      border-right-color: var(--fill-color);\n",
              "    }\n",
              "    40% {\n",
              "      border-color: transparent;\n",
              "      border-right-color: var(--fill-color);\n",
              "      border-top-color: var(--fill-color);\n",
              "    }\n",
              "    60% {\n",
              "      border-color: transparent;\n",
              "      border-right-color: var(--fill-color);\n",
              "    }\n",
              "    80% {\n",
              "      border-color: transparent;\n",
              "      border-right-color: var(--fill-color);\n",
              "      border-bottom-color: var(--fill-color);\n",
              "    }\n",
              "    90% {\n",
              "      border-color: transparent;\n",
              "      border-bottom-color: var(--fill-color);\n",
              "    }\n",
              "  }\n",
              "</style>\n",
              "\n",
              "  <script>\n",
              "    async function quickchart(key) {\n",
              "      const quickchartButtonEl =\n",
              "        document.querySelector('#' + key + ' button');\n",
              "      quickchartButtonEl.disabled = true;  // To prevent multiple clicks.\n",
              "      quickchartButtonEl.classList.add('colab-df-spinner');\n",
              "      try {\n",
              "        const charts = await google.colab.kernel.invokeFunction(\n",
              "            'suggestCharts', [key], {});\n",
              "      } catch (error) {\n",
              "        console.error('Error during call to suggestCharts:', error);\n",
              "      }\n",
              "      quickchartButtonEl.classList.remove('colab-df-spinner');\n",
              "      quickchartButtonEl.classList.add('colab-df-quickchart-complete');\n",
              "    }\n",
              "    (() => {\n",
              "      let quickchartButtonEl =\n",
              "        document.querySelector('#df-35d78fc8-83da-43d0-bbc4-2d0ad09bce1d button');\n",
              "      quickchartButtonEl.style.display =\n",
              "        google.colab.kernel.accessAllowed ? 'block' : 'none';\n",
              "    })();\n",
              "  </script>\n",
              "</div>\n",
              "\n",
              "  <div id=\"id_6c53b44c-9a35-426a-af00-6be7ebafe2e3\">\n",
              "    <style>\n",
              "      .colab-df-generate {\n",
              "        background-color: #E8F0FE;\n",
              "        border: none;\n",
              "        border-radius: 50%;\n",
              "        cursor: pointer;\n",
              "        display: none;\n",
              "        fill: #1967D2;\n",
              "        height: 32px;\n",
              "        padding: 0 0 0 0;\n",
              "        width: 32px;\n",
              "      }\n",
              "\n",
              "      .colab-df-generate:hover {\n",
              "        background-color: #E2EBFA;\n",
              "        box-shadow: 0px 1px 2px rgba(60, 64, 67, 0.3), 0px 1px 3px 1px rgba(60, 64, 67, 0.15);\n",
              "        fill: #174EA6;\n",
              "      }\n",
              "\n",
              "      [theme=dark] .colab-df-generate {\n",
              "        background-color: #3B4455;\n",
              "        fill: #D2E3FC;\n",
              "      }\n",
              "\n",
              "      [theme=dark] .colab-df-generate:hover {\n",
              "        background-color: #434B5C;\n",
              "        box-shadow: 0px 1px 3px 1px rgba(0, 0, 0, 0.15);\n",
              "        filter: drop-shadow(0px 1px 2px rgba(0, 0, 0, 0.3));\n",
              "        fill: #FFFFFF;\n",
              "      }\n",
              "    </style>\n",
              "    <button class=\"colab-df-generate\" onclick=\"generateWithVariable('df')\"\n",
              "            title=\"Generate code using this dataframe.\"\n",
              "            style=\"display:none;\">\n",
              "\n",
              "  <svg xmlns=\"http://www.w3.org/2000/svg\" height=\"24px\"viewBox=\"0 0 24 24\"\n",
              "       width=\"24px\">\n",
              "    <path d=\"M7,19H8.4L18.45,9,17,7.55,7,17.6ZM5,21V16.75L18.45,3.32a2,2,0,0,1,2.83,0l1.4,1.43a1.91,1.91,0,0,1,.58,1.4,1.91,1.91,0,0,1-.58,1.4L9.25,21ZM18.45,9,17,7.55Zm-12,3A5.31,5.31,0,0,0,4.9,8.1,5.31,5.31,0,0,0,1,6.5,5.31,5.31,0,0,0,4.9,4.9,5.31,5.31,0,0,0,6.5,1,5.31,5.31,0,0,0,8.1,4.9,5.31,5.31,0,0,0,12,6.5,5.46,5.46,0,0,0,6.5,12Z\"/>\n",
              "  </svg>\n",
              "    </button>\n",
              "    <script>\n",
              "      (() => {\n",
              "      const buttonEl =\n",
              "        document.querySelector('#id_6c53b44c-9a35-426a-af00-6be7ebafe2e3 button.colab-df-generate');\n",
              "      buttonEl.style.display =\n",
              "        google.colab.kernel.accessAllowed ? 'block' : 'none';\n",
              "\n",
              "      buttonEl.onclick = () => {\n",
              "        google.colab.notebook.generateWithVariable('df');\n",
              "      }\n",
              "      })();\n",
              "    </script>\n",
              "  </div>\n",
              "\n",
              "    </div>\n",
              "  </div>\n"
            ],
            "application/vnd.google.colaboratory.intrinsic+json": {
              "type": "dataframe",
              "variable_name": "df",
              "summary": "{\n  \"name\": \"df\",\n  \"rows\": 10,\n  \"fields\": [\n    {\n      \"column\": \"Unnamed: 0\",\n      \"properties\": {\n        \"dtype\": \"number\",\n        \"std\": 3,\n        \"min\": 0,\n        \"max\": 9,\n        \"num_unique_values\": 10,\n        \"samples\": [\n          8,\n          1,\n          5\n        ],\n        \"semantic_type\": \"\",\n        \"description\": \"\"\n      }\n    },\n    {\n      \"column\": \"MCQ\",\n      \"properties\": {\n        \"dtype\": \"string\",\n        \"num_unique_values\": 10,\n        \"samples\": [\n          \"What is the term for the process of selecting the most important predictor variables in linear regression? \",\n          \"What is the purpose of centering and scaling in linear regression? \",\n          \"In linear regression, what is the assumption that states the relationship between the response variable and the predictor variables should be linear? \"\n        ],\n        \"semantic_type\": \"\",\n        \"description\": \"\"\n      }\n    },\n    {\n      \"column\": \"Choices\",\n      \"properties\": {\n        \"dtype\": \"string\",\n        \"num_unique_values\": 10,\n        \"samples\": [\n          \"a: Feature selection | b: Dimensionality reduction | c: Regularization | d: Variable selection\",\n          \"a: To reduce the effects of outliers | b: To improve the model's fit | c: To simplify the calculations | d: To prevent multicollinearity\",\n          \"a: Homoscedasticity | b: Linearity | c: Independence | d: Equal variance\"\n        ],\n        \"semantic_type\": \"\",\n        \"description\": \"\"\n      }\n    },\n    {\n      \"column\": \"Correct\",\n      \"properties\": {\n        \"dtype\": \"string\",\n        \"num_unique_values\": 10,\n        \"samples\": [\n          \"Variable selection\",\n          \"To improve the model's fit\",\n          \"Linearity\"\n        ],\n        \"semantic_type\": \"\",\n        \"description\": \"\"\n      }\n    },\n    {\n      \"column\": \"map\",\n      \"properties\": {\n        \"dtype\": \"object\",\n        \"semantic_type\": \"\",\n        \"description\": \"\"\n      }\n    }\n  ]\n}"
            }
          },
          "metadata": {},
          "execution_count": 33
        }
      ]
    },
    {
      "cell_type": "code",
      "source": [
        "!pip install --upgrade gradio\n"
      ],
      "metadata": {
        "id": "DNxE5Mc4caJd"
      },
      "execution_count": null,
      "outputs": []
    },
    {
      "cell_type": "code",
      "source": [
        "import gradio as gr\n",
        "import pandas as pd\n",
        "\n",
        "# Function to evaluate the quiz\n",
        "def evaluate_quiz(*responses):\n",
        "    score = 0\n",
        "    for idx, response in enumerate(responses):\n",
        "        if response == df.iloc[idx][\"Correct\"]:\n",
        "            score += 1\n",
        "    return f\"Your score is {score}/{len(df)}\"\n",
        "\n",
        "# Create Gradio interface\n",
        "def create_quiz_interface(df):\n",
        "    question_elements = []\n",
        "    for idx, row in df.iterrows():\n",
        "        # Split the choices using '|' as the delimiter and map them to 'a', 'b', 'c', 'd'\n",
        "        choices = row['Choices'].split(' | ')\n",
        "        choice_dict = {choice.split(': ')[0]: choice.split(': ')[1] for choice in choices}\n",
        "        question_elements.append(gr.Radio(label=row['MCQ'], choices=list(choice_dict.values())))\n",
        "\n",
        "    quiz_interface = gr.Interface(\n",
        "        fn=evaluate_quiz,\n",
        "        inputs=question_elements,\n",
        "        outputs=\"text\",\n",
        "        title=\"QuizCrafter\",\n",
        "        description=\"Select the correct answers and submit to see your score.\"\n",
        "    )\n",
        "    return quiz_interface\n",
        "\n",
        "# Initialize and launch the Gradio app\n",
        "quiz_interface = create_quiz_interface(df)\n",
        "quiz_interface.launch()\n"
      ],
      "metadata": {
        "colab": {
          "base_uri": "https://localhost:8080/",
          "height": 645
        },
        "id": "ynCU2OB7Kd-t",
        "outputId": "67cadf71-300d-448c-ccb3-dc8270ed3493"
      },
      "execution_count": 37,
      "outputs": [
        {
          "output_type": "stream",
          "name": "stdout",
          "text": [
            "Setting queue=True in a Colab notebook requires sharing enabled. Setting `share=True` (you can turn this off by setting `share=False` in `launch()` explicitly).\n",
            "\n",
            "Colab notebook detected. To show errors in colab notebook, set debug=True in launch()\n",
            "Running on public URL: https://c40f98ef66aeff940e.gradio.live\n",
            "\n",
            "This share link expires in 72 hours. For free permanent hosting and GPU upgrades, run `gradio deploy` from Terminal to deploy to Spaces (https://huggingface.co/spaces)\n"
          ]
        },
        {
          "output_type": "display_data",
          "data": {
            "text/plain": [
              "<IPython.core.display.HTML object>"
            ],
            "text/html": [
              "<div><iframe src=\"https://c40f98ef66aeff940e.gradio.live\" width=\"100%\" height=\"500\" allow=\"autoplay; camera; microphone; clipboard-read; clipboard-write;\" frameborder=\"0\" allowfullscreen></iframe></div>"
            ]
          },
          "metadata": {}
        },
        {
          "output_type": "execute_result",
          "data": {
            "text/plain": []
          },
          "metadata": {},
          "execution_count": 37
        }
      ]
    },
    {
      "cell_type": "code",
      "source": [],
      "metadata": {
        "id": "Q19x0lixdSkO"
      },
      "execution_count": null,
      "outputs": []
    }
  ]
}